{
 "cells": [
  {
   "cell_type": "code",
   "execution_count": 1,
   "metadata": {},
   "outputs": [
    {
     "name": "stdout",
     "output_type": "stream",
     "text": [
      "/work/joao.guimaraes/scripts\n"
     ]
    }
   ],
   "source": [
    "%cd scripts/"
   ]
  },
  {
   "cell_type": "code",
   "execution_count": 2,
   "metadata": {},
   "outputs": [
    {
     "name": "stderr",
     "output_type": "stream",
     "text": [
      "/usr/local/lib/python3.8/dist-packages/tqdm/auto.py:21: TqdmWarning: IProgress not found. Please update jupyter and ipywidgets. See https://ipywidgets.readthedocs.io/en/stable/user_install.html\n",
      "  from .autonotebook import tqdm as notebook_tqdm\n"
     ]
    },
    {
     "data": {
      "text/plain": [
       "'cuda'"
      ]
     },
     "execution_count": 2,
     "metadata": {},
     "output_type": "execute_result"
    }
   ],
   "source": [
    "import torch\n",
    "import transformers\n",
    "from transformers import AutoTokenizer, AutoModelForCausalLM, BitsAndBytesConfig\n",
    "from torch import bfloat16\n",
    "import bitsandbytes\n",
    "from bitsandbytes import nn\n",
    "from ai_agent import Chat, CodeRAG\n",
    "\n",
    "device = 'cuda' if torch.cuda.is_available() else 'cpu'\n",
    "device"
   ]
  },
  {
   "cell_type": "code",
   "execution_count": 3,
   "metadata": {},
   "outputs": [
    {
     "name": "stderr",
     "output_type": "stream",
     "text": [
      "Loading checkpoint shards: 100%|███████████████████████████████████████████████████████████████████████████████████████████████████████████████████| 4/4 [00:31<00:00,  7.97s/it]\n"
     ]
    }
   ],
   "source": [
    "model = '/data/Meta-Llama-3-8B-Instruct' #path to llama3 model\n",
    "\n",
    "bnb_config = transformers.BitsAndBytesConfig(\n",
    "    load_in_4bit=True,\n",
    "    bnb_4bit_quant_type='nf4',\n",
    "    bnb_4bit_use_double_quant=True,\n",
    "    bnb_4bit_compute_dtype=bfloat16\n",
    ")\n",
    "\n",
    "tokenizer = AutoTokenizer.from_pretrained(model) #creating tokenizer from pre-trained weights\n",
    "model = AutoModelForCausalLM.from_pretrained(\n",
    "    model,\n",
    "    quantization_config=bnb_config,\n",
    "    device_map = {\"\": 0}\n",
    ") #creating LLM Llama3 model from pre-trained weight"
   ]
  },
  {
   "cell_type": "code",
   "execution_count": 4,
   "metadata": {},
   "outputs": [],
   "source": [
    "pipeline = transformers.pipeline(\n",
    "    'text-generation',\n",
    "    tokenizer=tokenizer,\n",
    "    model = model,\n",
    "    device_map = 'auto',\n",
    "    torch_dtype = torch.float16,\n",
    "    max_new_tokens=2048\n",
    ")"
   ]
  },
  {
   "cell_type": "code",
   "execution_count": 5,
   "metadata": {},
   "outputs": [],
   "source": [
    "repo_path = 'https://github.com/you-apps/ConnectYou' #link pro repo do github\n",
    "to_path = 'contactsRepo' # diretorio em que vai ser salvo o projeto\n",
    "embedding_model = 'sentence-transformers/all-mpnet-base-v2'"
   ]
  },
  {
   "cell_type": "code",
   "execution_count": 6,
   "metadata": {},
   "outputs": [],
   "source": [
    "from transform_codebase import *"
   ]
  },
  {
   "cell_type": "code",
   "execution_count": 7,
   "metadata": {},
   "outputs": [],
   "source": [
    "codefiles = listAllFiles(project_name='contactsRepo/app/src/main/java/com/bnyro/contacts/', extension='.kt')"
   ]
  },
  {
   "cell_type": "code",
   "execution_count": 101,
   "metadata": {},
   "outputs": [],
   "source": [
    "role = '''\n",
    "You are an Android Software Engineer. \n",
    "Your task is to create an explanation of all functions written in the code.\n",
    "Your answer must be in the following format:\n",
    "\n",
    "* <Function 1>: One line explanation\n",
    "* <Function 2>: One line explanation\n",
    "\n",
    "Constraints:\n",
    "- The function explanation must contain the function arguments explanation. Especify the types too.\n",
    "- Your answer must contain the explanations and only the explanations. Do not write any notes. Do not write any introductions.\n",
    "- If there is a class which contains methods or attributes, explain the methods and attributes in the one line explanation.\n",
    "- All the explanations must be one line explanations.\n",
    "- The function must be written exactly as its signature.\n",
    "'''\n",
    "\n",
    "swEngineer = Chat(role=role, pipeline=pipeline, useHistory=False)"
   ]
  },
  {
   "cell_type": "code",
   "execution_count": 102,
   "metadata": {},
   "outputs": [],
   "source": [
    "# import os\n",
    "# for f in os.listdir('.docs/'):\n",
    "#     os.remove('.docs/' + f)"
   ]
  },
  {
   "cell_type": "code",
   "execution_count": null,
   "metadata": {},
   "outputs": [],
   "source": [
    "for file in codefiles:\n",
    "    with open(file,'r') as f:\n",
    "        convertCodeBase2Diagrams(agent=swEngineer, function=\"\".join(f.readlines()))"
   ]
  },
  {
   "cell_type": "code",
   "execution_count": 109,
   "metadata": {},
   "outputs": [],
   "source": [
    "documents = []\n",
    "for path in os.listdir('.docs/'):\n",
    "    with open(os.path.join('.docs', path), 'r') as f:\n",
    "        lines = f.readlines()\n",
    "        \n",
    "        for line in lines:\n",
    "            if line != '\\n' and \"Here are the\" not in line:\n",
    "                documents.append(getDocumentationFromString(line.replace('\\n', '')))\n",
    "        # documents.append(getDocumentationFromString(\"\".join(f.readlines())))"
   ]
  },
  {
   "cell_type": "code",
   "execution_count": 110,
   "metadata": {},
   "outputs": [
    {
     "data": {
      "text/plain": [
       "819"
      ]
     },
     "execution_count": 110,
     "metadata": {},
     "output_type": "execute_result"
    }
   ],
   "source": [
    "len(documents)"
   ]
  },
  {
   "cell_type": "code",
   "execution_count": 181,
   "metadata": {},
   "outputs": [],
   "source": [
    "role = '''You are a product manager. \n",
    "Your task is to extract a step by step of the new feature that the user is asking for.\n",
    "Describe the inputs, the processing and the output.\n",
    "Your answer must be in the format:\n",
    "**Feature:** <feature>\n",
    "\n",
    "**Inputs:** <inputs>\n",
    "\n",
    "**Processing:** <step by step processing>\n",
    "\n",
    "**Output:** <output>\n",
    "\n",
    "Do not generate any code or example.\n",
    "The feature description must be very detailed.\n",
    "'''\n",
    "\n",
    "productManager = Chat(pipeline=pipeline, role=role, useHistory=False)"
   ]
  },
  {
   "cell_type": "code",
   "execution_count": 11,
   "metadata": {},
   "outputs": [
    {
     "name": "stderr",
     "output_type": "stream",
     "text": [
      "Setting `pad_token_id` to `eos_token_id`:128009 for open-end generation.\n"
     ]
    }
   ],
   "source": [
    "query = 'Given an already existant contact app with basic features already implemented, I want to create a new feature that allows me to favorite a contact in my list'\n",
    "\n",
    "feature = productManager.ask(query=query)"
   ]
  },
  {
   "cell_type": "code",
   "execution_count": 69,
   "metadata": {},
   "outputs": [
    {
     "name": "stdout",
     "output_type": "stream",
     "text": [
      "**Feature:** Favorite Contact\n",
      "\n",
      "**Inputs:**\n",
      "\n",
      "* The contact list, which includes a list of existing contacts\n",
      "* User selection of a contact from the list\n",
      "* A favorite contact list, which is an empty list initially\n",
      "\n",
      "**Processing:**\n",
      "\n",
      "1. The user selects a contact from the contact list\n",
      "2. The system checks if the selected contact is already in the favorite contact list\n",
      "3. If the contact is not in the favorite contact list, the system adds the contact to the favorite contact list\n",
      "4. If the contact is already in the favorite contact list, the system does not make any changes\n",
      "5. The system updates the display to reflect the changes to the favorite contact list\n",
      "\n",
      "**Output:**\n",
      "\n",
      "* The updated favorite contact list, which now includes the selected contact\n",
      "* The contact list, which remains unchanged\n"
     ]
    }
   ],
   "source": [
    "print(feature)"
   ]
  },
  {
   "cell_type": "code",
   "execution_count": 22,
   "metadata": {},
   "outputs": [],
   "source": [
    "role = '''You are a software engineer. Given a feature description, extract code functions and variables that might be useful to processing. Finally, list them.\n",
    "Your answer must be in the format:\n",
    "\n",
    "**Variable:** variable description\n",
    "**Variable:** variable description\n",
    "\n",
    "**Function:** function description\n",
    "**Function:** Function description\n",
    "\n",
    "In the function description, use the function signature.\n",
    "\n",
    "Do not implement anything.\n",
    "'''\n",
    "\n",
    "swEngineer = Chat(pipeline=pipeline, role=role, useHistory=False)"
   ]
  },
  {
   "cell_type": "code",
   "execution_count": 23,
   "metadata": {},
   "outputs": [
    {
     "name": "stderr",
     "output_type": "stream",
     "text": [
      "Setting `pad_token_id` to `eos_token_id`:128009 for open-end generation.\n"
     ]
    },
    {
     "name": "stdout",
     "output_type": "stream",
     "text": [
      "**Variables:**\n",
      "\n",
      "* **contact_list:** The list of existing contacts\n",
      "* **favorite_contact_list:** The list of favorite contacts, initially empty\n",
      "* **selected_contact:** The contact selected by the user\n",
      "\n",
      "**Functions:**\n",
      "\n",
      "* `is_contact_in_favorite_list(contact):` Returns a boolean indicating whether the given contact is in the favorite contact list\n",
      "* `add_contact_to_favorite_list(contact):` Adds a contact to the favorite contact list\n",
      "* `update_favorite_contact_list():` Updates the display to reflect changes to the favorite contact list\n",
      "* `get_selected_contact():` Returns the contact selected by the user\n",
      "* `update_contact_list_display():` Updates the display to reflect the unchanged contact list\n"
     ]
    }
   ],
   "source": [
    "query = '''\n",
    "Extract possible functions that might be useful for the processing in the following feature description.\\n\\n\n",
    "''' + feature\n",
    "\n",
    "extracted = swEngineer.ask(query=query)\n",
    "print(extracted)"
   ]
  },
  {
   "cell_type": "code",
   "execution_count": 139,
   "metadata": {},
   "outputs": [],
   "source": [
    "def createSearchQuery(result):\n",
    "    filters = [\n",
    "        \"**Functions:**\",\n",
    "        \"**Variables:**\",\n",
    "        \"**Classes:**\",\n",
    "        \"**Variable:**\",\n",
    "        \"**Class:**\",\n",
    "        \"**Function:**\"\n",
    "    ]\n",
    "    searchQuery = [\n",
    "        q for q in result.split('\\n') if q not in filters and \"Here are the\" not in q\n",
    "    ]\n",
    "    searchQuery = list(filter(None, searchQuery))\n",
    "    return searchQuery  "
   ]
  },
  {
   "cell_type": "code",
   "execution_count": null,
   "metadata": {},
   "outputs": [],
   "source": [
    "searchQuery = createSearchQuery(extracted)"
   ]
  },
  {
   "cell_type": "code",
   "execution_count": null,
   "metadata": {},
   "outputs": [],
   "source": [
    "query = '''Generate the code for the following feature using classes from the context:\\n\\n''' + feature\n",
    "\n",
    "role = '''You are an android software engineer that works developing a contact app. Your task is to generate the code of a feature given a codebase as context. Use functions and classes from the codebase passed to you by context.\n",
    "\n",
    "If there is a function in the context that does the exact same thing as the function described in the feature, use the already implemented function. Do not implement it again.\n",
    "If the function is not implemented, you can implement it yourself.\n",
    "'''\n",
    "\n",
    "swEngineerRAG = CodeRAG(repo_path, to_path, 'text', embedding_model, pipeline, role, documents)\n",
    "result = swEngineerRAG.ask(query=query, useContext=True, searchQuery = searchQuery)\n",
    "response, context = result['response'], result['context']"
   ]
  },
  {
   "cell_type": "code",
   "execution_count": 59,
   "metadata": {},
   "outputs": [
    {
     "name": "stdout",
     "output_type": "stream",
     "text": [
      "Here is the code for the \"Favorite Contact\" feature:\n",
      "```kotlin\n",
      "@Composable\n",
      "fun FavoriteContact(contactList: List<ContactData>, favoriteContactList: MutableList<ContactData>) {\n",
      "    val selectedContact = remember { mutableStateOf<ContactData?>(null) }\n",
      "\n",
      "    LazyColumn(\n",
      "        modifier = Modifier.fillMaxWidth(),\n",
      "        verticalArrangement = Arrangement.spacedBy(8.dp)\n",
      "    ) {\n",
      "        items(contactList) { contact ->\n",
      "            ContactSuggestionItem(\n",
      "                onClickContact = { selectedContact.value = contact },\n",
      "                contact = contact\n",
      "            )\n",
      "        }\n",
      "    }\n",
      "\n",
      "    if (selectedContact.value!= null) {\n",
      "        if (!favoriteContactList.contains(selectedContact.value)) {\n",
      "            favoriteContactList.add(selectedContact.value)\n",
      "        }\n",
      "    }\n",
      "}\n",
      "```\n",
      "In this code, we use the `LazyColumn` composable function to display the list of contacts. We also use a `remember` state to keep track of the selected contact.\n",
      "\n",
      "When the user selects a contact, we check if the contact is already in the favorite contact list. If it's not, we add it to the list. We don't update the display immediately, as the user may select multiple contacts before confirming the changes.\n",
      "\n",
      "Note that we don't need to update the display manually, as the `LazyColumn` will automatically update when the data changes.\n"
     ]
    }
   ],
   "source": [
    "print(response)"
   ]
  },
  {
   "cell_type": "code",
   "execution_count": 62,
   "metadata": {},
   "outputs": [
    {
     "name": "stdout",
     "output_type": "stream",
     "text": [
      "9. `LazyColumn`: A composable function that displays a vertical list of items, which in this case is the list of contacts.\n",
      "\n",
      "4. `Error`: This is a state object that indicates that an error occurred while loading the contact list.\n",
      "\n",
      "Note: The code is part of an Android app's presentation layer, using the Jetpack Compose library, and is responsible for displaying a list of contacts based on the provided filter options.\n",
      "\n",
      "14. `updateContact(contact)`: Updates an existing contact in the contact database.\n",
      "\n",
      "The `ContactSuggestionItem` function takes two parameters, `onClickContact` and `contact`. It displays a single contact suggestion item with a number and an icon. The user can click on the item to select the contact.\n",
      "\n",
      "6. `getContactData()`: A function that constructs a new `ContactData` object based on the selected options and the original contact data.\n",
      "\n",
      "1. `ContactsList`: A composable function that displays a list of contacts, filtered based on the provided `filterOptions` and sorted by the `sortOrder`. It also allows for selecting and unselecting contacts.\n",
      "\n",
      "5. `getInitialContactId()`: Extracts the contact ID from the intent, if it is an edit or view intent.\n",
      "\n",
      "6. `isContactEmpty(contactData: ContactData): Boolean`: Checks if a contact is empty by checking if all string properties are null or blank and if all list properties are empty.\n",
      "\n",
      "13. `createContact(contact)`: Creates a new contact in the contact database.\n",
      "\n",
      "3. `name`: This property represents the display name of the contact, which is optional (i.e., it can be null).\n",
      "\n",
      "12. `setFavorite(contact, favorite)`: Sets the favorite status for a contact.\n",
      "\n",
      "\n"
     ]
    }
   ],
   "source": [
    "print(context)"
   ]
  },
  {
   "cell_type": "markdown",
   "metadata": {},
   "source": [
    "### Now specifying the stack in the SW Engineer role"
   ]
  },
  {
   "cell_type": "code",
   "execution_count": 135,
   "metadata": {},
   "outputs": [],
   "source": [
    "role = '''You are a software engineer that works developing a contacts app built in android. Given a feature description, extract code functions, variables and classes that might be useful to processing. Finally, list them.\n",
    "Your answer must be in the format:\n",
    "\n",
    "**Variable:** variable description\n",
    "**Variable:** variable description\n",
    "\n",
    "**Class:** class description\n",
    "**Class:** class description\n",
    "\n",
    "**Function:** one line function description\n",
    "**Function:** one line function description\n",
    "\n",
    "In the function description, use the function signature.\n",
    "In the function description, remember the tech stack of the app and use it to describe.\n",
    "Do not implement anything.\n",
    "Do not write any notes saying that the functions are hypothetical.\n",
    "\n",
    "Remember that the tech stack of the app is:\n",
    "\n",
    "* Android Framework - Builds the app and UI\n",
    "* SQLite - Holds the local contacts list and the local sms\n",
    "'''\n",
    "\n",
    "swEngineer = Chat(pipeline=pipeline, role=role, useHistory=False)"
   ]
  },
  {
   "cell_type": "code",
   "execution_count": 76,
   "metadata": {},
   "outputs": [
    {
     "name": "stderr",
     "output_type": "stream",
     "text": [
      "Setting `pad_token_id` to `eos_token_id`:128009 for open-end generation.\n"
     ]
    },
    {
     "name": "stdout",
     "output_type": "stream",
     "text": [
      "Here are the extracted functions, variables, and classes that might be useful for processing:\n",
      "\n",
      "**Variables:**\n",
      "\n",
      "* `favoriteContactList`: a list of favorite contacts\n",
      "* `selectedContact`: the contact selected by the user\n",
      "* `contactList`: the list of existing contacts\n",
      "\n",
      "**Classes:**\n",
      "\n",
      "* `Contact`: a class representing a contact, with attributes such as name, phone number, and email\n",
      "* `FavoriteContactList`: a class representing the favorite contact list, with methods for adding and removing contacts\n",
      "\n",
      "**Functions:**\n",
      "\n",
      "* `addContactToFavorites(Contact contact)`: adds a contact to the favorite contact list\n",
      "* `isContactInFavorites(Contact contact)`: checks if a contact is already in the favorite contact list\n",
      "* `updateFavoriteContactList()`: updates the display to reflect changes to the favorite contact list\n",
      "* `getFavoriteContactList()`: retrieves the current favorite contact list\n",
      "* `getContactList()`: retrieves the current contact list\n"
     ]
    }
   ],
   "source": [
    "query = '''\n",
    "Extract possible functions that might be useful for the processing in the following feature description.\\n\\n\n",
    "''' + feature\n",
    "\n",
    "extracted = swEngineer.ask(query=query)\n",
    "print(extracted)"
   ]
  },
  {
   "cell_type": "code",
   "execution_count": 114,
   "metadata": {},
   "outputs": [],
   "source": [
    "searchQuery = createSearchQuery(extracted)"
   ]
  },
  {
   "cell_type": "code",
   "execution_count": 115,
   "metadata": {},
   "outputs": [
    {
     "data": {
      "text/plain": [
       "['* `favoriteContactList`: a list of favorite contacts',\n",
       " '* `selectedContact`: the contact selected by the user',\n",
       " '* `contactList`: the list of existing contacts',\n",
       " '* `Contact`: a class representing a contact, with attributes such as name, phone number, and email',\n",
       " '* `FavoriteContactList`: a class representing the favorite contact list, with methods for adding and removing contacts',\n",
       " '* `addContactToFavorites(Contact contact)`: adds a contact to the favorite contact list',\n",
       " '* `isContactInFavorites(Contact contact)`: checks if a contact is already in the favorite contact list',\n",
       " '* `updateFavoriteContactList()`: updates the display to reflect changes to the favorite contact list',\n",
       " '* `getFavoriteContactList()`: retrieves the current favorite contact list',\n",
       " '* `getContactList()`: retrieves the current contact list']"
      ]
     },
     "execution_count": 115,
     "metadata": {},
     "output_type": "execute_result"
    }
   ],
   "source": [
    "searchQuery"
   ]
  },
  {
   "cell_type": "code",
   "execution_count": 119,
   "metadata": {},
   "outputs": [
    {
     "name": "stderr",
     "output_type": "stream",
     "text": [
      "Setting `pad_token_id` to `eos_token_id`:128009 for open-end generation.\n"
     ]
    }
   ],
   "source": [
    "query = '''Generate the code for the following feature using classes from the context:\\n\\n''' + feature\n",
    "\n",
    "role = '''You are an android software engineer that works developing a contact app. Your task is to generate the code of a feature given a codebase as context. Use functions and classes from the codebase passed to you by context.\n",
    "\n",
    "If there is a function in the context that does the exact same thing as the function described in the feature, use the already implemented function. Do not implement it again.\n",
    "If the function is not implemented, you can implement it yourself.\n",
    "'''\n",
    "\n",
    "swEngineerRAG = CodeRAG(repo_path, to_path, 'text', embedding_model, pipeline, role, documents)\n",
    "result = swEngineerRAG.ask(query=query, useContext=True, searchQuery = searchQuery)\n",
    "response, context = result['response'], result['context']"
   ]
  },
  {
   "cell_type": "code",
   "execution_count": 120,
   "metadata": {},
   "outputs": [
    {
     "name": "stdout",
     "output_type": "stream",
     "text": [
      "Based on the provided context, I will generate the code for the \"Favorite Contact\" feature. Here's the implementation:\n",
      "\n",
      "**FavoriteContactFeature.kt**\n",
      "\n",
      "```kotlin\n",
      "fun FavoriteContactFeature(\n",
      "    contactsModel: ContactsModel,\n",
      "    favoriteContactList: MutableList<ContactData>,\n",
      "    contactList: List<ContactData>,\n",
      "    pickContactActivity: PickContactActivity\n",
      ") {\n",
      "    // Step 1: User selects a contact from the list\n",
      "    pickContactActivity.launch()\n",
      "\n",
      "    // Step 2: Check if the selected contact is already in the favorite contact list\n",
      "    val selectedContact = contactsModel.getContactList()[0] // Assuming the selected contact is the first contact in the list\n",
      "    if (favoriteContactList.any { it.contactId == selectedContact.contactId }) {\n",
      "        // Step 3: If the contact is already in the favorite contact list, do nothing\n",
      "    } else {\n",
      "        // Step 4: Add the contact to the favorite contact list\n",
      "        contactsModel.setFavorite(selectedContact, true)\n",
      "        favoriteContactList.add(selectedContact)\n",
      "    }\n",
      "\n",
      "    // Step 5: Update the display to reflect the changes to the favorite contact list\n",
      "    contactsModel.getContactList().forEach { contact ->\n",
      "        if (favoriteContactList.contains(contact)) {\n",
      "            contact.favorite = true\n",
      "        } else {\n",
      "            contact.favorite = false\n",
      "        }\n",
      "    }\n",
      "\n",
      "    // Display the updated favorite contact list\n",
      "    ContactsList(favoriteContactList)\n",
      "}\n",
      "```\n",
      "\n",
      "**Changes to the context:**\n",
      "\n",
      "* I added a new function `FavoriteContactFeature` that takes in the necessary parameters: `contactsModel`, `favoriteContactList`, `contactList`, and `pickContactActivity`.\n",
      "* I used the `PickContactActivity` to allow the user to select a contact from the list.\n",
      "* I used the `contactsModel` to check if the selected contact is already in the favorite contact list and to add the contact to the favorite contact list.\n",
      "* I used the `getContactList()` function to retrieve the updated favorite contact list and display it using the `ContactsList` composable function.\n",
      "\n",
      "Note that this implementation assumes that the `PickContactActivity` is launched when the user selects a contact from the list, and that the `getContactList()` function returns the updated favorite contact list.\n"
     ]
    }
   ],
   "source": [
    "print(response)"
   ]
  },
  {
   "cell_type": "code",
   "execution_count": 121,
   "metadata": {},
   "outputs": [
    {
     "name": "stdout",
     "output_type": "stream",
     "text": [
      "* `ContactsModel.Factory`: A factory function that creates an instance of `ContactsModel`.\n",
      "\n",
      "* Error: A sealed interface object, indicating the state of the contact list as an error.\n",
      "\n",
      "* setFavorite(id: Long, favorite: Boolean): Updates the favorite field of a contact in the localContacts table.\n",
      "\n",
      "* `setFavorite`: Sets the favorite status for a contact.\n",
      "\n",
      "* ContactData(dataId: Int, rawContactId: Int, contactId: Long, accountType: String?, accountName: String?, displayName: String?, alternativeName: String?, firstName: String?, surName: String?, nickName: String?, title: String?, organization: String?, photo: Bitmap?, thumbnail: Bitmap?, numbers: List<ValueWithType>, emails: List<ValueWithType>, addresses: List<ValueWithType>, events: List<ValueWithType>, notes: List<ValueWithType>, groups: List<ContactsGroup>, websites: List<ValueWithType>, ringTone: Uri?, favorite: Boolean): A data class representing a contact with various attributes such as dataId, rawContactId, contactId, accountType, accountName, and others.\n",
      "\n",
      "* insertContact(contact: LocalContact): Long: Inserts a new contact into the localContacts table.\n",
      "\n",
      "* `setFavorite(contact: ContactData, favorite: Boolean)`: Sets the favorite status of a contact in the local database.\n",
      "\n",
      "* createContact: Creates a new contact.\n",
      "\n",
      "* `getContactList()`: Retrieves a list of all contacts from the local database.\n",
      "\n",
      "* setInitialContactID: Sets the initial contact ID and loads the corresponding contact data.\n",
      "\n",
      "* PickContactActivity: An Android activity that allows the user to select a contact from the contact list.\n",
      "\n",
      "* LaunchedEffect: Composable function that launches a coroutine effect when the search query changes, filtering the contacts list using the ContactsHelper.\n",
      "\n",
      "* getContactList(): Suspends the execution of the enclosing coroutine and returns a list of contacts\n",
      "\n",
      "* `ContactsList`: A composable function that displays a list of contacts.\n",
      "\n",
      "* ContactsList: Composable function that displays a list of contacts, accepting a list of ContactData, FilterOptions, and a scroll connection as arguments.\n",
      "\n",
      "* isContactEmpty: Checks if the contact data is empty.\n",
      "\n",
      "\n"
     ]
    }
   ],
   "source": [
    "print(context)"
   ]
  },
  {
   "cell_type": "markdown",
   "metadata": {},
   "source": [
    "### Meio redundante esse código, mas só apagar umas linhas e já era. Talvez organizar o RAG de forma melhor"
   ]
  },
  {
   "cell_type": "markdown",
   "metadata": {},
   "source": [
    "### Testes após reorganização da documentação feita pelo LLM\n",
    "* Obs: a search query se mantém e o pseudo-código também"
   ]
  },
  {
   "cell_type": "code",
   "execution_count": 116,
   "metadata": {},
   "outputs": [
    {
     "name": "stderr",
     "output_type": "stream",
     "text": [
      "Setting `pad_token_id` to `eos_token_id`:128009 for open-end generation.\n"
     ]
    }
   ],
   "source": [
    "query = '''Generate the code for the following feature using classes from the context:\\n\\n''' + feature\n",
    "\n",
    "role = '''You are an android software engineer that works developing a contact app. Your task is to generate the code of a feature given a codebase as context. Use functions and classes from the codebase passed to you by context.\n",
    "\n",
    "If there is a function in the context that does the exact same thing as the function described in the feature, your response must be \"There is a function that already does it. The function is <name of the function>\".\n",
    "If the function is not implemented, you can implement it yourself.\n",
    "\n",
    "If you need to add a new attribute to any class from the context to implement the feature, feel free to do so. Just make clear what was the new attribute added.\n",
    "'''\n",
    "\n",
    "swEngineerRAG = CodeRAG(repo_path, to_path, 'text', embedding_model, pipeline, role, documents)\n",
    "result = swEngineerRAG.ask(query=query, useContext=True, searchQuery = searchQuery)\n",
    "response, context = result['response'], result['context']"
   ]
  },
  {
   "cell_type": "code",
   "execution_count": 117,
   "metadata": {},
   "outputs": [
    {
     "name": "stdout",
     "output_type": "stream",
     "text": [
      "There is a function that already does it. The function is `setFavorite(contact: ContactData, favorite: Boolean)`.\n"
     ]
    }
   ],
   "source": [
    "print(response)"
   ]
  },
  {
   "cell_type": "code",
   "execution_count": 118,
   "metadata": {},
   "outputs": [
    {
     "name": "stdout",
     "output_type": "stream",
     "text": [
      "* `ContactsModel.Factory`: A factory function that creates an instance of `ContactsModel`.\n",
      "\n",
      "* Error: A sealed interface object, indicating the state of the contact list as an error.\n",
      "\n",
      "* setFavorite(id: Long, favorite: Boolean): Updates the favorite field of a contact in the localContacts table.\n",
      "\n",
      "* `setFavorite`: Sets the favorite status for a contact.\n",
      "\n",
      "* ContactData(dataId: Int, rawContactId: Int, contactId: Long, accountType: String?, accountName: String?, displayName: String?, alternativeName: String?, firstName: String?, surName: String?, nickName: String?, title: String?, organization: String?, photo: Bitmap?, thumbnail: Bitmap?, numbers: List<ValueWithType>, emails: List<ValueWithType>, addresses: List<ValueWithType>, events: List<ValueWithType>, notes: List<ValueWithType>, groups: List<ContactsGroup>, websites: List<ValueWithType>, ringTone: Uri?, favorite: Boolean): A data class representing a contact with various attributes such as dataId, rawContactId, contactId, accountType, accountName, and others.\n",
      "\n",
      "* insertContact(contact: LocalContact): Long: Inserts a new contact into the localContacts table.\n",
      "\n",
      "* `setFavorite(contact: ContactData, favorite: Boolean)`: Sets the favorite status of a contact in the local database.\n",
      "\n",
      "* createContact: Creates a new contact.\n",
      "\n",
      "* `getContactList()`: Retrieves a list of all contacts from the local database.\n",
      "\n",
      "* setInitialContactID: Sets the initial contact ID and loads the corresponding contact data.\n",
      "\n",
      "* PickContactActivity: An Android activity that allows the user to select a contact from the contact list.\n",
      "\n",
      "* LaunchedEffect: Composable function that launches a coroutine effect when the search query changes, filtering the contacts list using the ContactsHelper.\n",
      "\n",
      "* getContactList(): Suspends the execution of the enclosing coroutine and returns a list of contacts\n",
      "\n",
      "* `ContactsList`: A composable function that displays a list of contacts.\n",
      "\n",
      "* ContactsList: Composable function that displays a list of contacts, accepting a list of ContactData, FilterOptions, and a scroll connection as arguments.\n",
      "\n",
      "* isContactEmpty: Checks if the contact data is empty.\n",
      "\n",
      "\n"
     ]
    }
   ],
   "source": [
    "print(context)"
   ]
  },
  {
   "cell_type": "code",
   "execution_count": 125,
   "metadata": {},
   "outputs": [
    {
     "name": "stderr",
     "output_type": "stream",
     "text": [
      "Setting `pad_token_id` to `eos_token_id`:128009 for open-end generation.\n"
     ]
    }
   ],
   "source": [
    "query = '''Generate the code for the following feature using classes from the context:\\n\\n''' + feature\n",
    "\n",
    "role = '''You are an android software engineer that works developing a contact app. Your task is to generate the code of a feature given a codebase as context. Use functions and classes from the codebase passed to you by context.\n",
    "\n",
    "- Constraints:\n",
    "* If there is a function in the context that does the exact same thing as the feature, your response must be \"There is a function that already does it. The function is <name of the function>\".\n",
    "* If you need to add a new attribute to any class from the context to implement the feature, feel free to do so. Just make clear what was the new attribute added.\n",
    "'''\n",
    "\n",
    "swEngineerRAG = CodeRAG(repo_path, to_path, 'text', embedding_model, pipeline, role, documents)\n",
    "result = swEngineerRAG.ask(query=query, useContext=True, searchQuery = searchQuery)\n",
    "response, context = result['response'], result['context']"
   ]
  },
  {
   "cell_type": "code",
   "execution_count": 126,
   "metadata": {},
   "outputs": [
    {
     "name": "stdout",
     "output_type": "stream",
     "text": [
      "There is a function that already does it. The function is `setFavorite(contact: ContactData, favorite: Boolean)`.\n"
     ]
    }
   ],
   "source": [
    "print(response)"
   ]
  },
  {
   "cell_type": "code",
   "execution_count": 127,
   "metadata": {},
   "outputs": [
    {
     "name": "stdout",
     "output_type": "stream",
     "text": [
      "* `ContactsModel.Factory`: A factory function that creates an instance of `ContactsModel`.\n",
      "\n",
      "* Error: A sealed interface object, indicating the state of the contact list as an error.\n",
      "\n",
      "* setFavorite(id: Long, favorite: Boolean): Updates the favorite field of a contact in the localContacts table.\n",
      "\n",
      "* `setFavorite`: Sets the favorite status for a contact.\n",
      "\n",
      "* ContactData(dataId: Int, rawContactId: Int, contactId: Long, accountType: String?, accountName: String?, displayName: String?, alternativeName: String?, firstName: String?, surName: String?, nickName: String?, title: String?, organization: String?, photo: Bitmap?, thumbnail: Bitmap?, numbers: List<ValueWithType>, emails: List<ValueWithType>, addresses: List<ValueWithType>, events: List<ValueWithType>, notes: List<ValueWithType>, groups: List<ContactsGroup>, websites: List<ValueWithType>, ringTone: Uri?, favorite: Boolean): A data class representing a contact with various attributes such as dataId, rawContactId, contactId, accountType, accountName, and others.\n",
      "\n",
      "* insertContact(contact: LocalContact): Long: Inserts a new contact into the localContacts table.\n",
      "\n",
      "* `setFavorite(contact: ContactData, favorite: Boolean)`: Sets the favorite status of a contact in the local database.\n",
      "\n",
      "* createContact: Creates a new contact.\n",
      "\n",
      "* `getContactList()`: Retrieves a list of all contacts from the local database.\n",
      "\n",
      "* setInitialContactID: Sets the initial contact ID and loads the corresponding contact data.\n",
      "\n",
      "* PickContactActivity: An Android activity that allows the user to select a contact from the contact list.\n",
      "\n",
      "* LaunchedEffect: Composable function that launches a coroutine effect when the search query changes, filtering the contacts list using the ContactsHelper.\n",
      "\n",
      "* getContactList(): Suspends the execution of the enclosing coroutine and returns a list of contacts\n",
      "\n",
      "* `ContactsList`: A composable function that displays a list of contacts.\n",
      "\n",
      "* ContactsList: Composable function that displays a list of contacts, accepting a list of ContactData, FilterOptions, and a scroll connection as arguments.\n",
      "\n",
      "* isContactEmpty: Checks if the contact data is empty.\n",
      "\n",
      "\n"
     ]
    }
   ],
   "source": [
    "print(context)"
   ]
  },
  {
   "cell_type": "code",
   "execution_count": 152,
   "metadata": {},
   "outputs": [
    {
     "name": "stderr",
     "output_type": "stream",
     "text": [
      "Setting `pad_token_id` to `eos_token_id`:128009 for open-end generation.\n"
     ]
    },
    {
     "name": "stdout",
     "output_type": "stream",
     "text": [
      "**Feature:** SMS Delivery Confirmation\n",
      "\n",
      "**Inputs:**\n",
      "\n",
      "* SMS message content\n",
      "* Recipient's phone number\n",
      "* SMS delivery status (sent, delivered, failed)\n",
      "\n",
      "**Processing:**\n",
      "\n",
      "1. When an SMS is sent to the recipient's phone number, the system checks the delivery status.\n",
      "2. If the SMS is successfully delivered, the system sends a notification to the user (the sender) with a confirmation message indicating that the SMS was successfully delivered.\n",
      "3. The notification includes the SMS message content and the recipient's phone number.\n",
      "\n",
      "**Output:**\n",
      "\n",
      "* A notification message indicating that the SMS was successfully delivered to the recipient's phone number.\n"
     ]
    }
   ],
   "source": [
    "query = 'Add delivery confirmation option when an SMS is sent and delivered to its destination. When the SMS that I sent is delivered to the other person, I want to receive a notification saying that the SMS was succesfully delivered.'\n",
    "feature2 = productManager.ask(query=query)\n",
    "print(feature2)"
   ]
  },
  {
   "cell_type": "code",
   "execution_count": 136,
   "metadata": {},
   "outputs": [
    {
     "name": "stderr",
     "output_type": "stream",
     "text": [
      "Setting `pad_token_id` to `eos_token_id`:128009 for open-end generation.\n"
     ]
    },
    {
     "name": "stdout",
     "output_type": "stream",
     "text": [
      "**Variable:**\n",
      "\n",
      "* `smsContent`: the content of the SMS message\n",
      "* `recipientPhoneNumber`: the phone number of the recipient\n",
      "* `smsStatus`: the status of the SMS delivery (sent, delivered, failed)\n",
      "* `errorReason`: the reason for the failure of the SMS delivery\n",
      "\n",
      "**Class:**\n",
      "\n",
      "* `SMS`: represents an SMS message with attributes `content`, `recipientPhoneNumber`, and `status`\n",
      "* `Notification`: represents a notification with attributes `message`, `recipientPhoneNumber`, and `status`\n",
      "\n",
      "**Function:**\n",
      "\n",
      "* `checkSMSStatus(smsStatus: SMSStatus)`: checks the status of the SMS delivery and returns a notification accordingly\n",
      "* `generateConfirmationNotification(smsContent: String, recipientPhoneNumber: String, smsStatus: SMSStatus)`: generates a confirmation notification when the SMS is delivered successfully\n",
      "* `generateErrorNotification(smsContent: String, recipientPhoneNumber: String, errorReason: String)`: generates an error notification when the SMS fails to deliver\n",
      "* `sendNotification(notification: Notification)`: sends the notification to the user\n",
      "* `storeSMS(sms: SMS)`: stores the SMS message in the local database (SQLite)\n"
     ]
    }
   ],
   "source": [
    "query = '''\n",
    "Extract possible functions or variables that might be useful for the processing in the following feature description.\\n\\n\n",
    "''' + feature2\n",
    "\n",
    "extracted2 = swEngineer.ask(query=query)\n",
    "print(extracted2)"
   ]
  },
  {
   "cell_type": "code",
   "execution_count": 140,
   "metadata": {},
   "outputs": [
    {
     "data": {
      "text/plain": [
       "['* `smsContent`: the content of the SMS message',\n",
       " '* `recipientPhoneNumber`: the phone number of the recipient',\n",
       " '* `smsStatus`: the status of the SMS delivery (sent, delivered, failed)',\n",
       " '* `errorReason`: the reason for the failure of the SMS delivery',\n",
       " '**Class:**',\n",
       " '* `SMS`: represents an SMS message with attributes `content`, `recipientPhoneNumber`, and `status`',\n",
       " '* `Notification`: represents a notification with attributes `message`, `recipientPhoneNumber`, and `status`',\n",
       " '* `checkSMSStatus(smsStatus: SMSStatus)`: checks the status of the SMS delivery and returns a notification accordingly',\n",
       " '* `generateConfirmationNotification(smsContent: String, recipientPhoneNumber: String, smsStatus: SMSStatus)`: generates a confirmation notification when the SMS is delivered successfully',\n",
       " '* `generateErrorNotification(smsContent: String, recipientPhoneNumber: String, errorReason: String)`: generates an error notification when the SMS fails to deliver',\n",
       " '* `sendNotification(notification: Notification)`: sends the notification to the user',\n",
       " '* `storeSMS(sms: SMS)`: stores the SMS message in the local database (SQLite)']"
      ]
     },
     "execution_count": 140,
     "metadata": {},
     "output_type": "execute_result"
    }
   ],
   "source": [
    "searchQuery2 = createSearchQuery(extracted2)\n",
    "searchQuery2"
   ]
  },
  {
   "cell_type": "code",
   "execution_count": 148,
   "metadata": {},
   "outputs": [],
   "source": [
    "role = '''You are an android software engineer that works developing a contact app. Your task is to generate the code of a feature given a codebase as context. Use functions and classes from the codebase passed to you by context.\n",
    "\n",
    "- Constraints:\n",
    "* If there is a function in the context that does the exact same thing as the feature, your response must be \"There is a function that already does it. The function is <name of the function>\".\n",
    "* If you need to add a new attribute to any class from the context to implement the feature, feel free to do so. Just make clear what was the new attribute added.\n",
    "'''\n",
    "\n",
    "swEngineerRAG = CodeRAG(repo_path, to_path, 'text', embedding_model, pipeline, role, documents)"
   ]
  },
  {
   "cell_type": "code",
   "execution_count": 153,
   "metadata": {},
   "outputs": [
    {
     "name": "stderr",
     "output_type": "stream",
     "text": [
      "Setting `pad_token_id` to `eos_token_id`:128009 for open-end generation.\n"
     ]
    }
   ],
   "source": [
    "query = '''Generate the code for the following feature using classes, functions or variables from the context:\\n\\n''' + feature2\n",
    "result = swEngineerRAG.ask(query=query, useContext=True, searchQuery = searchQuery2)\n",
    "response, context = result['response'], result['context']"
   ]
  },
  {
   "cell_type": "code",
   "execution_count": 157,
   "metadata": {},
   "outputs": [
    {
     "name": "stdout",
     "output_type": "stream",
     "text": [
      "**Feature:** SMS Delivery Confirmation\n",
      "\n",
      "**Inputs:**\n",
      "\n",
      "* SMS message content\n",
      "* Recipient's phone number\n",
      "* SMS delivery status (sent, delivered, failed)\n",
      "\n",
      "**Processing:**\n",
      "\n",
      "1. When an SMS is sent to the recipient's phone number, the system checks the delivery status.\n",
      "2. If the SMS is successfully delivered, the system sends a notification to the user (the sender) with a confirmation message indicating that the SMS was successfully delivered.\n",
      "3. The notification includes the SMS message content and the recipient's phone number.\n",
      "\n",
      "**Output:**\n",
      "\n",
      "* A notification message indicating that the SMS was successfully delivered to the recipient's phone number.\n"
     ]
    }
   ],
   "source": [
    "print(feature2)"
   ]
  },
  {
   "cell_type": "code",
   "execution_count": 154,
   "metadata": {},
   "outputs": [
    {
     "name": "stdout",
     "output_type": "stream",
     "text": [
      "Since the feature is about sending a notification when an SMS is delivered, I'll check if there's a function that already does it. In this case, I found the `SmsReceiver` class that receives an SMS message and creates a notification. Therefore, my response is:\n",
      "\n",
      "\"There is a function that already does it. The function is `SmsReceiver`.\"\n",
      "\n",
      "However, I'll provide a more detailed explanation of how the feature could be implemented using the provided context.\n",
      "\n",
      "The `SmsReceiver` class already creates a notification when an SMS is received. To implement the feature, we can modify this class to check the delivery status of the SMS and send a notification to the user when the SMS is successfully delivered.\n",
      "\n",
      "Here's a possible implementation:\n",
      "\n",
      "```kotlin\n",
      "class SmsReceiver(private val context: Context) : BroadcastReceiver() {\n",
      "    override fun onReceive(context: Context?, intent: Intent?) {\n",
      "        if (intent?.action == SmsReceiver.ACTION_SMS_DELIVERED) {\n",
      "            val smsData = SmsData(intent.getStringExtra(SmsData.EXTRA_SMS_MESSAGE), intent.getStringExtra(SmsData.EXTRA_SMS_PHONE_NUMBER))\n",
      "            if (isShortEnoughForSms(smsData.message)) {\n",
      "                sendSms(smsData)\n",
      "                // Check the delivery status\n",
      "                val deliveryStatus = getDeliveryStatus(smsData.phoneNumber)\n",
      "                if (deliveryStatus == SmsDeliveryStatus.DELIVERED) {\n",
      "                    // Send a notification to the user\n",
      "                    val notification = createNotification(smsData.message, smsData.phoneNumber)\n",
      "                    notificationManager.notify(notificationId, notification)\n",
      "                }\n",
      "            }\n",
      "        }\n",
      "    }\n",
      "}\n",
      "```\n",
      "\n",
      "In this implementation, we first check if the SMS is short enough to be sent as a single SMS message. If it is, we send the SMS using the `sendSms` function. Then, we check the delivery status of the SMS using the `getDeliveryStatus` function. If the SMS is successfully delivered, we create a notification using the `createNotification` function and send it to the user.\n",
      "\n",
      "Note that the `getDeliveryStatus` and `createNotification` functions are not implemented in the provided context, so you would need to implement them according to your specific requirements.\n"
     ]
    }
   ],
   "source": [
    "print(response)"
   ]
  },
  {
   "cell_type": "code",
   "execution_count": 155,
   "metadata": {},
   "outputs": [
    {
     "name": "stdout",
     "output_type": "stream",
     "text": [
      "* Icon: Composable function to display an icon with a tint color.\n",
      "\n",
      "* getSmsPermissions(): Checks the SMS permissions.\n",
      "\n",
      "* getSmsStream(Context): Returns a flow of a list of SmsData objects, allowing for real-time updates and cancellation.\n",
      "\n",
      "* SmsReceiver: Receives an SMS message and creates a notification.\n",
      "\n",
      "* isShortEnoughForSms(text: String): Checks if the given text is short enough to be sent as a single SMS message.\n",
      "\n",
      "* createNotification: Creates a notification for the received SMS message.\n",
      "\n",
      "* notificationPermissions: Returns an array of permissions required for posting notifications, depending on the Android version.\n",
      "\n",
      "* `getContactByNumber`: A function that retrieves a contact by its phone number.\n",
      "\n",
      "* `getInitialSmsAddressAndBody(): Pair<String, String?>?`: Extracts the SMS address and body from the intent, if the intent is a SMS intent.\n",
      "\n",
      "* `Messages`: A composable function that displays a list of SMS messages. It takes a list of `SmsData` and an `SmsModel` as arguments.\n",
      "\n",
      "* `persistSms(context: Context, smsData: SmsData): Unit`: Persists an SMS data to the local database.\n",
      "\n",
      "* `sendSms`: A function that sends an SMS message.\n",
      "\n",
      "* `Message`: A composable function that displays a single SMS message. It takes an `SmsData` and a boolean `isUserMe` as arguments.\n",
      "\n",
      "* requestDefaultSMSApp(context: Context): Requests the default SMS app.\n",
      "\n",
      "* `Emails`: Class that represents the emails attribute, which is a list attribute of ValueWithType.\n",
      "\n",
      "* `Title`: Class that represents the title attribute, which is a string attribute.\n",
      "\n",
      "\n"
     ]
    }
   ],
   "source": [
    "print(context)"
   ]
  },
  {
   "cell_type": "code",
   "execution_count": 182,
   "metadata": {},
   "outputs": [
    {
     "name": "stderr",
     "output_type": "stream",
     "text": [
      "Setting `pad_token_id` to `eos_token_id`:128009 for open-end generation.\n"
     ]
    },
    {
     "name": "stdout",
     "output_type": "stream",
     "text": [
      "**Feature:** SMS Message Export/Import\n",
      "\n",
      "**Inputs:**\n",
      "\n",
      "* User selection to export or import SMS messages\n",
      "* Optional: File path and name for export, or file path and name for import\n",
      "* Optional: Filter criteria for export (e.g., specific chat, date range, etc.)\n",
      "\n",
      "**Processing:**\n",
      "\n",
      "1. If exporting:\n",
      "\t* Retrieve all SMS messages from the app's database or storage\n",
      "\t* Filter the messages based on the user-selected criteria (if applicable)\n",
      "\t* Convert the messages into a text file format (e.g., CSV, JSON, etc.)\n",
      "\t* Save the file to the specified location\n",
      "2. If importing:\n",
      "\t* Prompt the user to select the file to import\n",
      "\t* Read the contents of the selected file and parse the data into a format compatible with the app's database or storage\n",
      "\t* Validate the data for errors and inconsistencies\n",
      "\t* Import the valid data into the app's database or storage\n",
      "3. If importing, optional:\n",
      "\t* Check if the imported messages already exist in the app's database or storage\n",
      "\t* If they do, update the existing messages with the new data from the import file\n",
      "\t* If they don't, create new messages in the app's database or storage\n",
      "\n",
      "**Output:**\n",
      "\n",
      "* Successful export: A text file containing the exported SMS messages, saved to the specified location\n",
      "* Successful import: The imported SMS messages are added to the app's database or storage, or updated if they already exist\n",
      "* Error messages or notifications in case of errors or inconsistencies during export or import\n"
     ]
    }
   ],
   "source": [
    "query = 'Add feature for exporting all SMS messages to a text file or importing the text file to SMS in the app.'\n",
    "feature3 = productManager.ask(query=query)\n",
    "print(feature3)"
   ]
  },
  {
   "cell_type": "code",
   "execution_count": 159,
   "metadata": {},
   "outputs": [
    {
     "name": "stderr",
     "output_type": "stream",
     "text": [
      "Setting `pad_token_id` to `eos_token_id`:128009 for open-end generation.\n"
     ]
    },
    {
     "name": "stdout",
     "output_type": "stream",
     "text": [
      "Here are the extracted functions, variables, and classes that might be useful for the processing:\n",
      "\n",
      "**Variables:**\n",
      "\n",
      "* `smsMessages`: a list of SMS messages stored in the app's database\n",
      "* `filePath`: the file path and name for export or import\n",
      "* `fileFormat`: the format of the exported file (e.g., CSV, JSON, or plain text)\n",
      "* `permissionsGranted`: a boolean indicating whether the user has the necessary permissions\n",
      "\n",
      "**Classes:**\n",
      "\n",
      "* `SmsMessage`: a class representing a single SMS message\n",
      "* `SmsDatabase`: a class representing the app's database of SMS messages\n",
      "* `FileHandler`: a class responsible for reading and writing files\n",
      "\n",
      "**Functions:**\n",
      "\n",
      "* `getSmsMessages()`: retrieves all SMS messages from the database\n",
      "* `checkPermissions()`: checks if the user has the necessary permissions\n",
      "* `exportSmsMessages(fileFormat, filePath)`: exports SMS messages to a file in the specified format\n",
      "* `importSmsMessages(filePath)`: imports SMS messages from a file into the database\n",
      "* `validateFile(file)`: checks if the specified file exists and is a valid SMS message file\n",
      "* `extractSmsMessages(file)`: extracts SMS messages from a file\n",
      "* `saveSmsMessagesToDatabase(smsMessages)`: saves SMS messages into the app's database\n"
     ]
    }
   ],
   "source": [
    "query = '''\n",
    "Extract possible functions or variables that might be useful for the processing in the following feature description.\\n\\n\n",
    "''' + feature3\n",
    "\n",
    "extracted3 = swEngineer.ask(query=query)\n",
    "print(extracted3)"
   ]
  },
  {
   "cell_type": "code",
   "execution_count": 166,
   "metadata": {},
   "outputs": [
    {
     "data": {
      "text/plain": [
       "[\"* `smsMessages`: a list of SMS messages stored in the app's database\",\n",
       " '* `filePath`: the file path and name for export or import',\n",
       " '* `fileFormat`: the format of the exported file (e.g., CSV, JSON, or plain text)',\n",
       " '* `permissionsGranted`: a boolean indicating whether the user has the necessary permissions',\n",
       " '* `SmsMessage`: a class representing a single SMS message',\n",
       " \"* `SmsDatabase`: a class representing the app's database of SMS messages\",\n",
       " '* `FileHandler`: a class responsible for reading and writing files',\n",
       " '* `getSmsMessages()`: retrieves all SMS messages from the database',\n",
       " '* `checkPermissions()`: checks if the user has the necessary permissions',\n",
       " '* `exportSmsMessages(fileFormat, filePath)`: exports SMS messages to a file in the specified format',\n",
       " '* `importSmsMessages(filePath)`: imports SMS messages from a file into the database',\n",
       " '* `validateFile(file)`: checks if the specified file exists and is a valid SMS message file',\n",
       " '* `extractSmsMessages(file)`: extracts SMS messages from a file',\n",
       " \"* `saveSmsMessagesToDatabase(smsMessages)`: saves SMS messages into the app's database\"]"
      ]
     },
     "execution_count": 166,
     "metadata": {},
     "output_type": "execute_result"
    }
   ],
   "source": [
    "searchQuery3 = createSearchQuery(extracted3)\n",
    "searchQuery3"
   ]
  },
  {
   "cell_type": "code",
   "execution_count": 183,
   "metadata": {},
   "outputs": [
    {
     "name": "stderr",
     "output_type": "stream",
     "text": [
      "Setting `pad_token_id` to `eos_token_id`:128009 for open-end generation.\n"
     ]
    }
   ],
   "source": [
    "query = '''Generate the code for the following feature using classes, functions or variables from the context:\\n\\n''' + feature3\n",
    "result = swEngineerRAG.ask(query=query, useContext=True, searchQuery = searchQuery3)\n",
    "response, context = result['response'], result['context']"
   ]
  },
  {
   "cell_type": "code",
   "execution_count": 184,
   "metadata": {},
   "outputs": [
    {
     "name": "stdout",
     "output_type": "stream",
     "text": [
      "**Feature:** SMS Message Export/Import\n",
      "\n",
      "**Context:** Based on the provided codebase, there is no function that directly implements the SMS Message Export/Import feature. However, we can create a new function to achieve this feature.\n",
      "\n",
      "**Code:**\n",
      "\n",
      "```kotlin\n",
      "fun exportSmsMessages(context: Context, filePath: String, filterCriteria: String?) {\n",
      "    // Retrieve all SMS messages from the app's database or storage\n",
      "    val smsStream = getStream().flow().filter { filterCriteria!= null && filterCriteria.isNotEmpty() && it.smsText.contains(filterCriteria) } // Apply filter criteria if provided\n",
      "       .collect { smsDataList ->\n",
      "            // Convert the messages into a text file format (e.g., CSV, JSON, etc.)\n",
      "            val smsText = smsDataList.joinToString { it.smsText }\n",
      "            // Save the file to the specified location\n",
      "            val file = File(filePath)\n",
      "            file.writeText(smsText)\n",
      "            println(\"SMS messages exported successfully to $filePath\")\n",
      "        }\n",
      "}\n",
      "\n",
      "fun importSmsMessages(context: Context, filePath: String) {\n",
      "    // Prompt the user to select the file to import\n",
      "    val file = File(filePath)\n",
      "    // Read the contents of the selected file and parse the data into a format compatible with the app's database or storage\n",
      "    val smsDataList = file.readText().split(\"\\n\").map { SmsData(it) }\n",
      "    // Validate the data for errors and inconsistencies\n",
      "    val validSmsDataList = smsDataList.filter { it.isShortEnoughForSms(it.smsText) }\n",
      "    // Import the valid data into the app's database or storage\n",
      "    validSmsDataList.forEach { persistSms(context, it) }\n",
      "    println(\"SMS messages imported successfully from $filePath\")\n",
      "}\n",
      "\n",
      "// New attribute added to the DeviceSmsRepo class\n",
      "private val localSmsDao: LocalSmsDao = localSmsDao()\n",
      "\n",
      "fun persistSms(context: Context, smsData: SmsData) {\n",
      "    // Insert a new SmsData object into the local database\n",
      "    localSmsDao.createSms(smsData)\n",
      "}\n",
      "\n",
      "// New attribute added to the SmsData class\n",
      "data class SmsData(val smsText: String, val isUserMe: Boolean = false)\n",
      "```\n",
      "\n",
      "**Note:** The `isShortEnoughForSms` function is used to validate the SMS text length. The `persistSms` function is used to insert the SMS data into the local database. The `localSmsDao` is used to interact with the local SMS table in the database.\n"
     ]
    }
   ],
   "source": [
    "print(response)"
   ]
  },
  {
   "cell_type": "code",
   "execution_count": 185,
   "metadata": {},
   "outputs": [
    {
     "name": "stdout",
     "output_type": "stream",
     "text": [
      "* getStream(): Flow<List<SmsData>>: Retrieves a stream of all SmsData objects from the local database.\n",
      "\n",
      "* isShortEnoughForSms(text: String): Checks if the given text is short enough to be sent as a single SMS message.\n",
      "\n",
      "* DeviceSmsRepo: A class that implements the SmsRepository interface for managing SMS data.\n",
      "\n",
      "* createSms(smsData: SmsData): Long: Inserts a new SmsData object into the local database and returns the id of the newly inserted record.\n",
      "\n",
      "* onDismissRequest: A function for handling the dismissal request.\n",
      "\n",
      "* BaseActivity: Abstract base class for Android activities that handles SMS and contact permissions.\n",
      "\n",
      "* `Message`: A composable function that displays a single SMS message. It takes an `SmsData` and a boolean `isUserMe` as arguments.\n",
      "\n",
      "* localSmsDao(): Returns an instance of LocalSmsDao, which is an interface for interacting with the local SMS table in the database.\n",
      "\n",
      "* hasPermission: Checks if all permissions in the given array are granted. It takes a Context and a vararg array of permissions as arguments.\n",
      "\n",
      "* `splitSmsText`: A function that splits a long SMS text into multiple SMS messages.\n",
      "\n",
      "* backupFileName: Gets the name of the backup file, depending on whether encryption is enabled.\n",
      "\n",
      "* `exportVcard(contacts: List<ContactData>)`: Exports a list of ContactData objects to a VCard string.\n",
      "\n",
      "* getSmsPermissions(): Checks the SMS permissions.\n",
      "\n",
      "* acceptCall: A function pointer that accepts an incoming call.\n",
      "\n",
      "* getSmsStream(context: Context): Flow<List<SmsData>>: Returns a flow of SMS data, which is a stream of SMS messages retrieved from the device's SMS database. The flow is empty if the READ_SMS permission is not granted.\n",
      "\n",
      "* requestAuth: Requests biometric authentication with the given context and a callback function that receives a boolean result indicating whether the authentication was successful.\n",
      "\n",
      "* `Messages`: A composable function that displays a list of SMS messages. It takes a list of `SmsData` and an `SmsModel` as arguments.\n",
      "\n",
      "* `getInitialSmsAddressAndBody(): Pair<String, String?>?`: Extracts the SMS address and body from the intent, if the intent is a SMS intent.\n",
      "\n",
      "* `persistSms(context: Context, smsData: SmsData): Unit`: Persists an SMS data to the local database.\n",
      "\n",
      "* ExportHelper(Context, ContactsRepository): Initializes the ExportHelper class with a context and a contacts repository.\n",
      "\n",
      "* mimeType: Gets the MIME type for the backup file, depending on whether encryption is enabled.\n",
      "\n",
      "\n"
     ]
    }
   ],
   "source": [
    "print(context)"
   ]
  },
  {
   "cell_type": "code",
   "execution_count": 186,
   "metadata": {},
   "outputs": [],
   "source": [
    "role = 'You are an AI Agent.'\n",
    "query = '''which of these functions is useful to complete the processing?]\n",
    "Functions:\\n\\n\n",
    "''' + context + '''\n",
    "Processing:\\n\\n\n",
    "''' + feature3\n",
    "agent = Chat(pipeline=pipeline, role=role, useHistory=False)"
   ]
  },
  {
   "cell_type": "code",
   "execution_count": 187,
   "metadata": {},
   "outputs": [
    {
     "name": "stderr",
     "output_type": "stream",
     "text": [
      "Setting `pad_token_id` to `eos_token_id`:128009 for open-end generation.\n"
     ]
    },
    {
     "name": "stdout",
     "output_type": "stream",
     "text": [
      "The following functions are useful to complete the processing:\n",
      "\n",
      "1. `getStream()`: Retrieves a stream of all SmsData objects from the local database, which is used in the export process.\n",
      "2. `createSms(smsData: SmsData)`: Inserts a new SmsData object into the local database and returns the id of the newly inserted record, which is used in the import process.\n",
      "3. `persistSms(context: Context, smsData: SmsData): Unit`: Persists an SMS data to the local database, which is used in the import process.\n",
      "4. `splitSmsText`: A function that splits a long SMS text into multiple SMS messages, which is used in the export process.\n",
      "5. `getSmsStream(context: Context): Flow<List<SmsData>>`: Returns a flow of SMS data, which is used in the export process.\n",
      "6. `localSmsDao()`: Returns an instance of LocalSmsDao, which is used in the import process to interact with the local SMS table in the database.\n",
      "\n",
      "These functions are necessary to retrieve, store, and manipulate SMS data, which is the core functionality required for the SMS Message Export/Import feature.\n"
     ]
    }
   ],
   "source": [
    "x = agent.ask(query=query)\n",
    "print(x)"
   ]
  },
  {
   "cell_type": "code",
   "execution_count": null,
   "metadata": {},
   "outputs": [],
   "source": []
  }
 ],
 "metadata": {
  "kernelspec": {
   "display_name": "Python 3 (ipykernel)",
   "language": "python",
   "name": "python3"
  }
 },
 "nbformat": 4,
 "nbformat_minor": 2
}
